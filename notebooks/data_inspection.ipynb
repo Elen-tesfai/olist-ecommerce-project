{
 "cells": [
  {
   "cell_type": "markdown",
   "id": "318173bc",
   "metadata": {},
   "source": [
    "# Data Inspection and Cleaning\n",
    "\n",
    "In this section, we will perform the following:\n",
    "1. Load the raw dataset.\n",
    "2. Check basic information about the dataset.\n",
    "3. Display the first few rows to get an understanding of the structure of the data."
   ]
  },
  {
   "cell_type": "code",
   "execution_count": 1,
   "id": "146832e5",
   "metadata": {},
   "outputs": [
    {
     "name": "stdout",
     "output_type": "stream",
     "text": [
      "<class 'pandas.core.frame.DataFrame'>\n",
      "RangeIndex: 99441 entries, 0 to 99440\n",
      "Data columns (total 5 columns):\n",
      " #   Column                    Non-Null Count  Dtype \n",
      "---  ------                    --------------  ----- \n",
      " 0   customer_id               99441 non-null  object\n",
      " 1   customer_unique_id        99441 non-null  object\n",
      " 2   customer_zip_code_prefix  99441 non-null  int64 \n",
      " 3   customer_city             99441 non-null  object\n",
      " 4   customer_state            99441 non-null  object\n",
      "dtypes: int64(1), object(4)\n",
      "memory usage: 3.8+ MB\n"
     ]
    },
    {
     "data": {
      "text/html": [
       "<div>\n",
       "<style scoped>\n",
       "    .dataframe tbody tr th:only-of-type {\n",
       "        vertical-align: middle;\n",
       "    }\n",
       "\n",
       "    .dataframe tbody tr th {\n",
       "        vertical-align: top;\n",
       "    }\n",
       "\n",
       "    .dataframe thead th {\n",
       "        text-align: right;\n",
       "    }\n",
       "</style>\n",
       "<table border=\"1\" class=\"dataframe\">\n",
       "  <thead>\n",
       "    <tr style=\"text-align: right;\">\n",
       "      <th></th>\n",
       "      <th>customer_id</th>\n",
       "      <th>customer_unique_id</th>\n",
       "      <th>customer_zip_code_prefix</th>\n",
       "      <th>customer_city</th>\n",
       "      <th>customer_state</th>\n",
       "    </tr>\n",
       "  </thead>\n",
       "  <tbody>\n",
       "    <tr>\n",
       "      <th>0</th>\n",
       "      <td>06b8999e2fba1a1fbc88172c00ba8bc7</td>\n",
       "      <td>861eff4711a542e4b93843c6dd7febb0</td>\n",
       "      <td>14409</td>\n",
       "      <td>franca</td>\n",
       "      <td>SP</td>\n",
       "    </tr>\n",
       "    <tr>\n",
       "      <th>1</th>\n",
       "      <td>18955e83d337fd6b2def6b18a428ac77</td>\n",
       "      <td>290c77bc529b7ac935b93aa66c333dc3</td>\n",
       "      <td>9790</td>\n",
       "      <td>sao bernardo do campo</td>\n",
       "      <td>SP</td>\n",
       "    </tr>\n",
       "    <tr>\n",
       "      <th>2</th>\n",
       "      <td>4e7b3e00288586ebd08712fdd0374a03</td>\n",
       "      <td>060e732b5b29e8181a18229c7b0b2b5e</td>\n",
       "      <td>1151</td>\n",
       "      <td>sao paulo</td>\n",
       "      <td>SP</td>\n",
       "    </tr>\n",
       "    <tr>\n",
       "      <th>3</th>\n",
       "      <td>b2b6027bc5c5109e529d4dc6358b12c3</td>\n",
       "      <td>259dac757896d24d7702b9acbbff3f3c</td>\n",
       "      <td>8775</td>\n",
       "      <td>mogi das cruzes</td>\n",
       "      <td>SP</td>\n",
       "    </tr>\n",
       "    <tr>\n",
       "      <th>4</th>\n",
       "      <td>4f2d8ab171c80ec8364f7c12e35b23ad</td>\n",
       "      <td>345ecd01c38d18a9036ed96c73b8d066</td>\n",
       "      <td>13056</td>\n",
       "      <td>campinas</td>\n",
       "      <td>SP</td>\n",
       "    </tr>\n",
       "  </tbody>\n",
       "</table>\n",
       "</div>"
      ],
      "text/plain": [
       "                        customer_id                customer_unique_id  \\\n",
       "0  06b8999e2fba1a1fbc88172c00ba8bc7  861eff4711a542e4b93843c6dd7febb0   \n",
       "1  18955e83d337fd6b2def6b18a428ac77  290c77bc529b7ac935b93aa66c333dc3   \n",
       "2  4e7b3e00288586ebd08712fdd0374a03  060e732b5b29e8181a18229c7b0b2b5e   \n",
       "3  b2b6027bc5c5109e529d4dc6358b12c3  259dac757896d24d7702b9acbbff3f3c   \n",
       "4  4f2d8ab171c80ec8364f7c12e35b23ad  345ecd01c38d18a9036ed96c73b8d066   \n",
       "\n",
       "   customer_zip_code_prefix          customer_city customer_state  \n",
       "0                     14409                 franca             SP  \n",
       "1                      9790  sao bernardo do campo             SP  \n",
       "2                      1151              sao paulo             SP  \n",
       "3                      8775        mogi das cruzes             SP  \n",
       "4                     13056               campinas             SP  "
      ]
     },
     "execution_count": 1,
     "metadata": {},
     "output_type": "execute_result"
    }
   ],
   "source": [
    "# Importing necessary libraries\n",
    "import pandas as pd\n",
    "\n",
    "# Load the raw dataset\n",
    "data_path = '../data/olist_customers_dataset.csv'\n",
    "df = pd.read_csv(data_path)\n",
    "\n",
    "# Display basic info and first few rows\n",
    "df.info()\n",
    "df.head()"
   ]
  },
  {
   "cell_type": "markdown",
   "id": "fad158a6",
   "metadata": {},
   "source": [
    "## Step 1: Importing Necessary Libraries\n",
    "\n",
    "We start by importing the essential libraries for data manipulation and inspection. Here, we use **Pandas** to load and inspect the dataset.\n"
   ]
  },
  {
   "cell_type": "code",
   "execution_count": 2,
   "id": "974c45ca",
   "metadata": {},
   "outputs": [],
   "source": [
    "# Importing necessary libraries\n",
    "import pandas as pd\n"
   ]
  },
  {
   "cell_type": "markdown",
   "id": "d3e41601",
   "metadata": {},
   "source": [
    "## Step 2: Loading the Raw Dataset\n",
    "\n",
    "The next step is to load the dataset from the CSV file into a Pandas DataFrame. This allows us to work with the data in a structured format for further inspection and cleaning."
   ]
  },
  {
   "cell_type": "code",
   "execution_count": 7,
   "id": "a7cc413e",
   "metadata": {},
   "outputs": [
    {
     "name": "stdout",
     "output_type": "stream",
     "text": [
      "Data loaded successfully. DataFrame shape: (99441, 5)\n",
      "                        customer_id                customer_unique_id  \\\n",
      "0  06b8999e2fba1a1fbc88172c00ba8bc7  861eff4711a542e4b93843c6dd7febb0   \n",
      "1  18955e83d337fd6b2def6b18a428ac77  290c77bc529b7ac935b93aa66c333dc3   \n",
      "2  4e7b3e00288586ebd08712fdd0374a03  060e732b5b29e8181a18229c7b0b2b5e   \n",
      "3  b2b6027bc5c5109e529d4dc6358b12c3  259dac757896d24d7702b9acbbff3f3c   \n",
      "4  4f2d8ab171c80ec8364f7c12e35b23ad  345ecd01c38d18a9036ed96c73b8d066   \n",
      "\n",
      "   customer_zip_code_prefix          customer_city customer_state  \n",
      "0                     14409                 franca             SP  \n",
      "1                      9790  sao bernardo do campo             SP  \n",
      "2                      1151              sao paulo             SP  \n",
      "3                      8775        mogi das cruzes             SP  \n",
      "4                     13056               campinas             SP  \n"
     ]
    }
   ],
   "source": [
    "# Load the raw dataset\n",
    "data_path = 'C:/Users/su_te/Documents/olist-ecommerce-project/data/olist_customers_dataset.csv'\n",
    "df = pd.read_csv(data_path)\n",
    "\n",
    "# Check if the data is loaded correctly\n",
    "print(f\"Data loaded successfully. DataFrame shape: {df.shape}\")\n",
    "print(df.head())  # Display the first few rows"
   ]
  },
  {
   "cell_type": "markdown",
   "id": "70b59911",
   "metadata": {},
   "source": [
    "### Data Loaded Successfully:\n",
    "\n",
    "The dataset has been loaded into the DataFrame successfully. Below are the key observations:\n",
    "\n",
    "#### **Shape of the DataFrame:**\n",
    "- The dataset contains **99,441 rows** and **5 columns**, indicating a large dataset with a manageable number of attributes.\n",
    "\n",
    "#### **Columns in the Dataset:**\n",
    "1. **`customer_id`** – A unique identifier for each customer. This column contains alphanumeric values (`object` type).\n",
    "2. **`customer_unique_id`** – A second unique identifier for the customer. It seems to be another form of identification.\n",
    "3. **`customer_zip_code_prefix`** – This column represents the ZIP code prefix of the customer. It's a numeric value (`int64`), likely useful for geographical analysis.\n",
    "4. **`customer_city`** – The city where the customer resides. This is a string value that can be useful for city-level analysis.\n",
    "5. **`customer_state`** – The state of the customer. In the sample data, most entries belong to the state **São Paulo (SP)**.\n",
    "\n",
    "---\n",
    "\n",
    "#### **Sample Data Preview:**\n",
    "\n",
    "Here are the first few rows of the dataset:\n",
    "\n",
    "| customer_id                           | customer_unique_id                | customer_zip_code_prefix | customer_city           | customer_state |\n",
    "|---------------------------------------|-----------------------------------|--------------------------|-------------------------|----------------|\n",
    "| 06b8999e2fba1a1fbc88172c00ba8bc7     | 861eff4711a542e4b93843c6dd7febb0  | 14409                    | franca                  | SP             |\n",
    "| 18955e83d337fd6b2def6b18a428ac77     | 290c77bc529b7ac935b93aa66c333dc3  | 9790                     | sao bernardo do campo   | SP             |\n",
    "| 4e7b3e00288586ebd08712fdd0374a03     | 060e732b5b29e8181a18229c7b0b2b5e  | 1151                     | sao paulo               | SP             |\n",
    "| b2b6027bc5c5109e529d4dc6358b12c3     | 259dac757896d24d7702b9acbbff3f3c  | 8775                     | mogi das cruzes         | SP             |\n",
    "| 4f2d8ab171c80ec8364f7c12e35b23ad     | 345ecd01c38d18a9036ed96c73b8d066  | 13056                    | campinas                | SP             |\n",
    "\n",
    "---\n",
    "\n",
    "This result confirms that the dataset is structured properly, with distinct customer identifiers, city names, and state codes. \n",
    "\n",
    "### Next Steps:\n",
    "- **Check for Missing Data** – We’ll look for any missing or null values.\n",
    "- **Check for Duplicates** – Identify any duplicate records.\n",
    "- **Clean the Data** – If necessary, remove or handle any inconsistent values"
   ]
  },
  {
   "cell_type": "markdown",
   "id": "99adf509",
   "metadata": {},
   "source": [
    "## Step 3: Checking for Missing Values\n",
    "\n",
    "In this step, we will check for missing (null) values in the dataset. Missing data can occur due to various reasons and needs to be handled before further analysis. We'll identify which columns have missing values and how many missing values each one has.\n",
    "\n",
    "To check for missing values, we use the `isnull().sum()` method, which gives the count of missing values per column.\n"
   ]
  },
  {
   "cell_type": "code",
   "execution_count": 8,
   "id": "559e1ee0",
   "metadata": {},
   "outputs": [
    {
     "name": "stdout",
     "output_type": "stream",
     "text": [
      "Missing values in each column:\n",
      "customer_id                 0\n",
      "customer_unique_id          0\n",
      "customer_zip_code_prefix    0\n",
      "customer_city               0\n",
      "customer_state              0\n",
      "dtype: int64\n"
     ]
    }
   ],
   "source": [
    "# Check for missing values in the dataset\n",
    "missing_values = df.isnull().sum()\n",
    "\n",
    "# Display missing values\n",
    "print(\"Missing values in each column:\")\n",
    "print(missing_values)"
   ]
  },
  {
   "cell_type": "markdown",
   "id": "a4d6e1ac",
   "metadata": {},
   "source": [
    "### Explanation of Results:\n",
    "\n",
    "- **No missing values were found** in any of the columns.\n",
    "- All **5 columns** (`customer_id`, `customer_unique_id`, `customer_zip_code_prefix`, `customer_city`, and `customer_state`) have **zero missing values**.\n",
    "- This means that the **dataset is complete**, and there is **no need for any data imputation** or **removal of rows** with missing values."
   ]
  },
  {
   "cell_type": "markdown",
   "id": "7bedfbc7",
   "metadata": {},
   "source": [
    "### Step 4: Checking for Duplicate Entries\n",
    "\n",
    "In this step, we will check for any duplicate rows in the dataset. Duplicates can often arise from issues like data entry mistakes or merging multiple data sources. If duplicates are found, we can decide whether to drop them or investigate further."
   ]
  },
  {
   "cell_type": "code",
   "execution_count": 9,
   "id": "f473504a",
   "metadata": {},
   "outputs": [
    {
     "name": "stdout",
     "output_type": "stream",
     "text": [
      "Number of duplicate rows: 0\n"
     ]
    }
   ],
   "source": [
    "# Check for duplicate rows\n",
    "duplicates = df.duplicated().sum()\n",
    "\n",
    "# Display the result\n",
    "print(f\"Number of duplicate rows: {duplicates}\")\n",
    "\n",
    "# Optionally, display the first few duplicate rows if any\n",
    "if duplicates > 0:\n",
    "    print(df[df.duplicated()].head())"
   ]
  },
  {
   "cell_type": "markdown",
   "id": "00ff454c",
   "metadata": {},
   "source": [
    "#### Explanation of Results:\n",
    "No duplicate rows were found in the dataset. This means that each record is unique, and there are no repeated entries for any customers.\n",
    "\n",
    "The absence of duplicates is a positive outcome, as it suggests that the data is consistent and no unnecessary repetition has occurred during data collection or processing. Thus, no further action is needed to handle duplicate entries."
   ]
  },
  {
   "cell_type": "markdown",
   "id": "a767b251",
   "metadata": {},
   "source": [
    "## Step 5: Summary Statistics\n",
    "\n",
    "In this step, we'll get an overview of the numerical columns in the dataset by running basic summary statistics such as mean, median, standard deviation, and range. This helps us understand the distribution of the data and spot any potential issues, such as outliers or unexpected values."
   ]
  },
  {
   "cell_type": "code",
   "execution_count": 10,
   "id": "d4e65cb6",
   "metadata": {},
   "outputs": [
    {
     "data": {
      "text/html": [
       "<div>\n",
       "<style scoped>\n",
       "    .dataframe tbody tr th:only-of-type {\n",
       "        vertical-align: middle;\n",
       "    }\n",
       "\n",
       "    .dataframe tbody tr th {\n",
       "        vertical-align: top;\n",
       "    }\n",
       "\n",
       "    .dataframe thead th {\n",
       "        text-align: right;\n",
       "    }\n",
       "</style>\n",
       "<table border=\"1\" class=\"dataframe\">\n",
       "  <thead>\n",
       "    <tr style=\"text-align: right;\">\n",
       "      <th></th>\n",
       "      <th>customer_zip_code_prefix</th>\n",
       "    </tr>\n",
       "  </thead>\n",
       "  <tbody>\n",
       "    <tr>\n",
       "      <th>count</th>\n",
       "      <td>99441.000000</td>\n",
       "    </tr>\n",
       "    <tr>\n",
       "      <th>mean</th>\n",
       "      <td>35137.474583</td>\n",
       "    </tr>\n",
       "    <tr>\n",
       "      <th>std</th>\n",
       "      <td>29797.938996</td>\n",
       "    </tr>\n",
       "    <tr>\n",
       "      <th>min</th>\n",
       "      <td>1003.000000</td>\n",
       "    </tr>\n",
       "    <tr>\n",
       "      <th>25%</th>\n",
       "      <td>11347.000000</td>\n",
       "    </tr>\n",
       "    <tr>\n",
       "      <th>50%</th>\n",
       "      <td>24416.000000</td>\n",
       "    </tr>\n",
       "    <tr>\n",
       "      <th>75%</th>\n",
       "      <td>58900.000000</td>\n",
       "    </tr>\n",
       "    <tr>\n",
       "      <th>max</th>\n",
       "      <td>99990.000000</td>\n",
       "    </tr>\n",
       "  </tbody>\n",
       "</table>\n",
       "</div>"
      ],
      "text/plain": [
       "       customer_zip_code_prefix\n",
       "count              99441.000000\n",
       "mean               35137.474583\n",
       "std                29797.938996\n",
       "min                 1003.000000\n",
       "25%                11347.000000\n",
       "50%                24416.000000\n",
       "75%                58900.000000\n",
       "max                99990.000000"
      ]
     },
     "execution_count": 10,
     "metadata": {},
     "output_type": "execute_result"
    }
   ],
   "source": [
    "# Get summary statistics of the numerical columns\n",
    "summary_stats = df.describe()\n",
    "\n",
    "# Display the summary statistics\n",
    "summary_stats"
   ]
  },
  {
   "cell_type": "markdown",
   "id": "fc8ca2b6",
   "metadata": {},
   "source": [
    "### Summary Statistics for `customer_zip_code_prefix`:\n",
    "\n",
    "- **Count**: 99,441 entries (no missing values).\n",
    "- **Mean**: The average ZIP code prefix is 35,137.47.\n",
    "- **Standard Deviation (std)**: 29,797.94, indicating a large variation in the ZIP code prefixes.\n",
    "- **Minimum (min)**: The smallest ZIP code prefix is 1,003.\n",
    "- **25th Percentile (25%)**: 25% of the ZIP code prefixes are below 11,347.\n",
    "- **50th Percentile (50%)**: The median ZIP code prefix is 24,416.\n",
    "- **75th Percentile (75%)**: 75% of the ZIP code prefixes are below 58,900.\n",
    "- **Maximum (max)**: The largest ZIP code prefix is 99,990.\n",
    "\n",
    "### Explanation of Results:\n",
    "\n",
    "- **Range**: The dataset contains a wide range of ZIP code prefixes, from a minimum of **1,003** to a maximum of **99,990**.\n",
    "- **Mean and Variation**: The mean value of **35,137.47** indicates that most ZIP code prefixes are clustered in the middle of the range. The high **standard deviation** of **29,797.94** suggests that there is a large variation in the ZIP codes across customers.\n",
    "- **Percentiles**: The **25th**, **50th**, and **75th percentiles** suggest that most ZIP codes are distributed below **58,900**, with the **50th percentile** being around **24,416**. This shows that most of the ZIP codes are clustered in lower values.\n",
    "- **Outliers**: The **maximum** ZIP code prefix of **99,990** points to the presence of outliers at the higher end of the distribution.\n",
    "\n",
    "This step helps us understand the central tendency, spread, and outliers in the `customer_zip_code_prefix` column."
   ]
  },
  {
   "cell_type": "markdown",
   "id": "7d4b7083",
   "metadata": {},
   "source": [
    "### Step 6: Checking for Correlations (Optional)\n",
    "\n",
    "If there are numerical columns, it’s useful to check for correlations between them. Correlations can reveal if one feature is related to another, which is important for reducing multicollinearity when building machine learning models.\n",
    "\n",
    "To explore these relationships, the correlation matrix can be calculated using the `corr()` function, which shows how numerical features relate to each other. A heatmap can also be used for better visualization."
   ]
  },
  {
   "cell_type": "code",
   "execution_count": 12,
   "id": "3705408e",
   "metadata": {},
   "outputs": [
    {
     "name": "stdout",
     "output_type": "stream",
     "text": [
      "                          customer_zip_code_prefix\n",
      "customer_zip_code_prefix                       1.0\n"
     ]
    }
   ],
   "source": [
    "# Select only numeric columns\n",
    "numeric_columns = df.select_dtypes(include='number')\n",
    "\n",
    "# Calculate the correlation matrix for numeric columns\n",
    "correlation_matrix = numeric_columns.corr()\n",
    "\n",
    "# Display the correlation matrix\n",
    "print(correlation_matrix)"
   ]
  },
  {
   "cell_type": "markdown",
   "id": "fc69a294",
   "metadata": {},
   "source": [
    "### Explanation of Results:\n",
    "\n",
    "Since your dataset only has one numerical column (`customer_zip_code_prefix`), the correlation matrix shows a **1.0 correlation** between this column and itself. This is expected because a column is always perfectly correlated with itself.\n",
    "\n",
    "### Insights:\n",
    "- **Correlation**: The `customer_zip_code_prefix` column is the only numerical variable in the dataset, so no other features can be correlated with it. This is why the result is a **1.0**, indicating a perfect correlation with itself.\n",
    "- **Future Consideration**: If you add more numerical columns, you will be able to see correlations between different features, which can help in building predictive models and understanding feature relationships.\n",
    "\n",
    "This step of checking correlations might not be very informative in this case due to the limited number of numerical columns, but it will become more relevant as you work with datasets that have multiple numerical features."
   ]
  },
  {
   "cell_type": "markdown",
   "id": "683ea7c9",
   "metadata": {},
   "source": [
    "### Step 7: Data Visualization\n",
    "In this step, we will create visualizations to better understand the distribution of the data and any patterns that might exist. For numerical data, a common visualization is a histogram, which helps show the frequency distribution of values.\n",
    "\n",
    "Let’s start with visualizing the customer_zip_code_prefix using a histogram."
   ]
  },
  {
   "cell_type": "markdown",
   "id": "a27d8b24",
   "metadata": {},
   "source": [
    "1. Histogram of customer_zip_code_prefix:"
   ]
  },
  {
   "cell_type": "code",
   "execution_count": 13,
   "id": "1711fdce",
   "metadata": {},
   "outputs": [
    {
     "data": {
      "image/png": "[encoded data removed]",
      "text/plain": [
       "<Figure size 1000x600 with 1 Axes>"
      ]
     },
     "metadata": {},
     "output_type": "display_data"
    }
   ],
   "source": [
    "import matplotlib.pyplot as plt\n",
    "\n",
    "# Plot a histogram of the customer_zip_code_prefix column\n",
    "plt.figure(figsize=(10, 6))\n",
    "plt.hist(df['customer_zip_code_prefix'], bins=50, color='skyblue', edgecolor='black')\n",
    "plt.title('Distribution of customer_zip_code_prefix')\n",
    "plt.xlabel('ZIP Code Prefix')\n",
    "plt.ylabel('Frequency')\n",
    "plt.show()"
   ]
  },
  {
   "cell_type": "markdown",
   "id": "1c9747b2",
   "metadata": {},
   "source": [
    "2. Boxplot of customer_zip_code_prefix:"
   ]
  },
  {
   "cell_type": "code",
   "execution_count": 15,
   "id": "13513012",
   "metadata": {},
   "outputs": [
    {
     "data": {
      "image/png": "[encoded data removed]",
      "text/plain": [
       "<Figure size 1000x600 with 1 Axes>"
      ]
     },
     "metadata": {},
     "output_type": "display_data"
    }
   ],
   "source": [
    "import seaborn as sns\n",
    "\n",
    "# Create a boxplot for customer_zip_code_prefix\n",
    "plt.figure(figsize=(10,6))\n",
    "sns.boxplot(x=df['customer_zip_code_prefix'], color='lightcoral')\n",
    "plt.title('Boxplot of customer_zip_code_prefix')\n",
    "plt.xlabel('ZIP Code Prefix')\n",
    "plt.show()"
   ]
  },
  {
   "cell_type": "markdown",
   "id": "f859f1be",
   "metadata": {},
   "source": [
    "3. Bar Plot of Customer Distribution by State:"
   ]
  },
  {
   "cell_type": "code",
   "execution_count": 17,
   "id": "c52f4269",
   "metadata": {},
   "outputs": [
    {
     "data": {
      "image/png": "[encoded data removed]",
      "text/plain": [
       "<Figure size 1000x600 with 1 Axes>"
      ]
     },
     "metadata": {},
     "output_type": "display_data"
    }
   ],
   "source": [
    "import matplotlib.pyplot as plt\n",
    "\n",
    "# Plot a bar chart for customer_state\n",
    "state_counts = df['customer_state'].value_counts()\n",
    "\n",
    "# Create the bar plot\n",
    "plt.figure(figsize=(10,6))\n",
    "state_counts.plot(kind='bar', color='lightgreen', edgecolor='black')\n",
    "plt.title('Distribution of Customers by State')\n",
    "plt.xlabel('State')\n",
    "plt.ylabel('Number of Customers')\n",
    "plt.xticks(rotation=45)  # Rotating state labels for better readability\n",
    "plt.show()  # Closing the plot with this line"
   ]
  },
  {
   "cell_type": "markdown",
   "id": "29a557ad",
   "metadata": {},
   "source": [
    "4. Density Plot for customer_zip_code_prefix:"
   ]
  },
  {
   "cell_type": "code",
   "execution_count": 19,
   "id": "54f04f9d",
   "metadata": {},
   "outputs": [
    {
     "data": {
      "image/png": "[encoded data removed]",
      "text/plain": [
       "<Figure size 640x480 with 1 Axes>"
      ]
     },
     "metadata": {},
     "output_type": "display_data"
    }
   ],
   "source": [
    "import seaborn as sns\n",
    "import matplotlib.pyplot as plt\n",
    "\n",
    "# Plot KDE (Kernel Density Estimation) for customer_zip_code_prefix\n",
    "sns.kdeplot(df['customer_zip_code_prefix'], fill=True, color='skyblue')  # Updated 'shade' to 'fill'\n",
    "plt.title('Density Plot of customer_zip_code_prefix')\n",
    "plt.xlabel('ZIP Code Prefix')\n",
    "plt.ylabel('Density')\n",
    "plt.show()"
   ]
  },
  {
   "cell_type": "markdown",
   "id": "d32611f1",
   "metadata": {},
   "source": [
    "### Explanation of Results\n",
    "\n",
    "#### Histogram:\n",
    "- **Purpose**: Shows the frequency distribution of ZIP code prefixes.\n",
    "- **Insight**: It allows us to see how customer ZIP codes are distributed and identify areas where there are more customers.\n",
    "\n",
    "#### Boxplot:\n",
    "- **Purpose**: Visualizes the spread of ZIP code prefixes.\n",
    "- **Insight**: It highlights any potential outliers in the dataset, helping to understand the data's central tendency and variability.\n",
    "\n",
    "#### Bar Chart:\n",
    "- **Purpose**: Displays the number of customers from each state.\n",
    "- **Insight**: It indicates which regions have higher or lower customer density, offering a geographical breakdown of customer distribution.\n",
    "\n",
    "#### Density Plot:\n",
    "- **Purpose**: Provides a smooth estimation of the distribution of ZIP codes.\n",
    "- **Insight**: It helps us better understand the central tendency and spread of the data by visualizing the density of customer ZIP code prefixes."
   ]
  },
  {
   "cell_type": "markdown",
   "id": "105b4228",
   "metadata": {},
   "source": [
    "## Conclusion:\n",
    "- The dataset is clean, with no missing values or duplicates, making it ready for further analysis or modeling.\n",
    "- The `customer_zip_code_prefix` column spans a wide range of values, with a mean value suggesting that ZIP codes are mostly clustered in the middle, though there are some extreme outliers.\n",
    "- The visualizations provide a clear view of the distribution of ZIP code prefixes, helping identify regions with higher customer density.\n",
    "- Customer distribution by state reveals some regions with a notably higher concentration of customers than others.\n",
    "\n",
    "The next steps could involve:\n",
    "- **Feature Engineering**: Create additional features or transformations to enhance the dataset for predictive modeling.\n",
    "- **Outlier Treatment**: Address any outliers that could affect model performance.\n",
    "- **Predictive Modeling**: Train machine learning models to predict customer behavior or to segment customers for targeted marketing.\n",
    "- **Customer Segmentation**: Explore clustering techniques to group customers based on common characteristics, which can aid in personalized recommendations or marketing campaigns."
   ]
  }
 ],
 "metadata": {
  "kernelspec": {
   "display_name": "env",
   "language": "python",
   "name": "python3"
  },
  "language_info": {
   "codemirror_mode": {
    "name": "ipython",
    "version": 3
   },
   "file_extension": ".py",
   "mimetype": "text/x-python",
   "name": "python",
   "nbconvert_exporter": "python",
   "pygments_lexer": "ipython3",
   "version": "3.10.11"
  }
 },
 "nbformat": 4,
 "nbformat_minor": 5
}
